{
 "cells": [
  {
   "cell_type": "code",
   "execution_count": null,
   "id": "2581c977",
   "metadata": {},
   "outputs": [
    {
     "name": "stdout",
     "output_type": "stream",
     "text": [
      "\n",
      "--- To-Do List Menu ---\n",
      "1. View Tasks\n",
      "2. Add Task\n",
      "3. Remove Task\n",
      "4. Exit\n"
     ]
    }
   ],
   "source": [
    "import os\n",
    "FILE_NAME = \"tasks.txt\"\n",
    "def load_tasks():\n",
    "    if os.path.exists(FILE_NAME):\n",
    "        with open(FILE_NAME, \"r\") as f:\n",
    "            return [line.strip() for line in f.readlines()]\n",
    "    return []\n",
    "def save_tasks(tasks):\n",
    "    with open(FILE_NAME, \"w\") as f:\n",
    "        for task in tasks:\n",
    "            f.write(task + \"\\n\")\n",
    "def view_tasks(tasks):\n",
    "    if not tasks:\n",
    "        print(\"\\nNo tasks found.\")\n",
    "    else:\n",
    "        print(\"\\nYour To-Do List:\")\n",
    "        for i, task in enumerate(tasks, 1):\n",
    "            print(f\"{i}. {task}\")\n",
    "def add_task(tasks):\n",
    "    task = input(\"Enter a new task: \").strip()\n",
    "    if task:\n",
    "        tasks.append(task)\n",
    "        save_tasks(tasks)\n",
    "        print(\"Task added successfully!\")\n",
    "    else:\n",
    "        print(\"Empty task not added.\")\n",
    "def remove_task(tasks):\n",
    "    view_tasks(tasks)\n",
    "    if tasks:\n",
    "        try:\n",
    "            num = int(input(\"Enter task number to remove: \"))\n",
    "            if 1 <= num <= len(tasks):\n",
    "                removed = tasks.pop(num - 1)\n",
    "                save_tasks(tasks)\n",
    "                print(f\"Removed task: {removed}\")\n",
    "            else:\n",
    "                print(\"Invalid task number.\")\n",
    "        except ValueError:\n",
    "            print(\"Please enter a valid number.\")\n",
    "def main():\n",
    "    tasks = load_tasks()\n",
    "    while True:\n",
    "        print(\"\\n--- To-Do List Menu ---\")\n",
    "        print(\"1. View Tasks\")\n",
    "        print(\"2. Add Task\")\n",
    "        print(\"3. Remove Task\")\n",
    "        print(\"4. Exit\")\n",
    "        choice = input(\"Enter your choice (1-4): \")\n",
    "        if choice == \"1\":\n",
    "            view_tasks(tasks)\n",
    "        elif choice == \"2\":\n",
    "            add_task(tasks)\n",
    "        elif choice == \"3\":\n",
    "            remove_task(tasks)\n",
    "        elif choice == \"4\":\n",
    "            print(\"Exiting To-Do List App. Goodbye!\")\n",
    "            break\n",
    "        else:\n",
    "            print(\"Invalid choice. Try again.\")\n",
    "\n",
    "if __name__ == \"__main__\":\n",
    "    main()\n"
   ]
  }
 ],
 "metadata": {
  "kernelspec": {
   "display_name": "Python 3",
   "language": "python",
   "name": "python3"
  },
  "language_info": {
   "codemirror_mode": {
    "name": "ipython",
    "version": 3
   },
   "file_extension": ".py",
   "mimetype": "text/x-python",
   "name": "python",
   "nbconvert_exporter": "python",
   "pygments_lexer": "ipython3",
   "version": "3.10.9"
  }
 },
 "nbformat": 4,
 "nbformat_minor": 5
}
